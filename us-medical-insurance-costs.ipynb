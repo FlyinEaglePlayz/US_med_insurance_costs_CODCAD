{
 "cells": [
  {
   "cell_type": "markdown",
   "metadata": {},
   "source": [
    "# U.S. Medical Insurance Costs"
   ]
  },
  {
   "cell_type": "code",
   "execution_count": 3,
   "metadata": {
    "scrolled": true
   },
   "outputs": [
    {
     "name": "stdout",
     "output_type": "stream",
     "text": [
      "   age     sex     bmi  children smoker     region      charges\n",
      "0   19  female  27.900         0    yes  southwest  16884.92400\n",
      "1   18    male  33.770         1     no  southeast   1725.55230\n",
      "2   28    male  33.000         3     no  southeast   4449.46200\n",
      "3   33    male  22.705         0     no  northwest  21984.47061\n",
      "4   32    male  28.880         0     no  northwest   3866.85520\n"
     ]
    },
    {
     "data": {
      "image/png": "[encoded data removed]",
      "text/plain": [
       "<Figure size 640x480 with 1 Axes>"
      ]
     },
     "metadata": {},
     "output_type": "display_data"
    },
    {
     "name": "stdout",
     "output_type": "stream",
     "text": [
      "{'bmi_charges_correlation': 0.19834096883362884,\n",
      " 'bmi_statistics': {'mean': 30.66339686098655,\n",
      "                    'median': 30.4,\n",
      "                    'std_dev': 6.0959076415894256},\n",
      " 'charges_statistics': {'mean': 13270.422265141257,\n",
      "                        'median': 9382.033,\n",
      "                        'std_dev': 12105.484975561612}}\n",
      "{'age': 0.29900819333064765,\n",
      " 'bmi': 0.19834096883362884,\n",
      " 'children': 0.06799822684790482,\n",
      " 'smoker_numeric': 0.7872514304984766}\n",
      "Gender Distribution (%):\n",
      " male      50.523169\n",
      "female    49.476831\n",
      "Name: sex, dtype: float64\n",
      "\n",
      "Smoker Distribution (%):\n",
      " no     79.521674\n",
      "yes    20.478326\n",
      "Name: smoker, dtype: float64\n",
      "\n",
      "Regional Distribution (%):\n",
      " southeast    27.204783\n",
      "southwest    24.289985\n",
      "northwest    24.289985\n",
      "northeast    24.215247\n",
      "Name: region, dtype: float64\n",
      "[27.9, 33.77, 33.0, 22.705, 28.88]\n",
      "[16884.924, 1725.5523, 4449.462, 21984.47061, 3866.8552]\n",
      "BMI Stats (Mean, Median, Std Dev): (30.66339686098655, 30.4, 6.0959076415894256)\n",
      "Charges Stats (Mean, Median, Std Dev): (13270.422265141257, 9382.033, 12105.484975561612)\n",
      "Correlation between BMi and Charges: 0.19834096883362884\n"
     ]
    }
   ],
   "source": [
    "import pandas as pd\n",
    "\n",
    "df = pd.read_csv(\"insurance.csv\")\n",
    "\n",
    "print(df.head())\n",
    "\n",
    "import numpy as np\n",
    "\n",
    "def calculate_statistics(data):\n",
    "    \"\"\"Returns mean, median, and standard deviation of a given dataset.\"\"\"\n",
    "    mean = np.mean(data)\n",
    "    median = np.median(data)\n",
    "    std_dev = np.std(data)\n",
    "    return mean, median, std_dev\n",
    "\n",
    "\n",
    "def calculate_correlation(x, y):\n",
    "    \"\"\"Returns the correlation coefficient between two lists.\"\"\"\n",
    "    correlation = np.corrcoef(x, y)[0, 1]\n",
    "    return correlation\n",
    "\n",
    "# Convert categorical smoker column to numerical values (yes = 1, No = 0)\n",
    "df[\"smoker_numeric\"] = df[\"smoker\"].map({\"yes\": 1, \"no\": 0})\n",
    "\n",
    "# Select relevent numerical columns\n",
    "features = [\"age\", \"bmi\", \"children\", \"smoker_numeric\"]\n",
    "correlations = {}\n",
    "\n",
    "# Calculate correlation for each feature with medical charges\n",
    "for feature in features:\n",
    "    correlations[feature] = calculate_correlation(df[feature], df[\"charges\"])\n",
    "    \n",
    "\n",
    "\n",
    "# Gender Distribution\n",
    "gender_counts = df[\"sex\"].value_counts(normalize=True) * 100\n",
    "\n",
    "# Smoker Distribution\n",
    "smoker_counts = df[\"smoker\"].value_counts(normalize=True) * 100\n",
    "\n",
    "# Regional Distribution\n",
    "region_counts = df[\"region\"].value_counts(normalize=True) * 100\n",
    "\n",
    "# Age Distribution (Histogram to see if ages are evenly spread)\n",
    "import matplotlib.pyplot as plt\n",
    "plt.hist(df[\"age\"], bins=10, edgecolor=\"black\")\n",
    "plt.xlabel(\"Age\")\n",
    "plt.ylabel(\"Fequency\")\n",
    "plt.title(\"Age Distribution\")\n",
    "plt.show()\n",
    "\n",
    "\n",
    "bmi = df[\"bmi\"].tolist() #Converts the BMI column into a list\n",
    "charges = df[\"charges\"].tolist() #Converts the charges column into a list\n",
    "bmi_charges_correlation = calculate_correlation(bmi, charges) #calculates correlation coeficient between two lists\n",
    "bmi_stats = calculate_statistics(bmi)\n",
    "charges_stats = calculate_statistics(charges)\n",
    "correlations = dict(sorted(correlations.items(), key=lambda item: abs(item[1]), reverse=True))\n",
    "\n",
    "# Dictionary to store key findings\n",
    "analysis_results = {\n",
    "    \"bmi_statistics\": {\n",
    "        \"mean\": calculate_statistics(bmi)[0],\n",
    "        \"median\": calculate_statistics(bmi)[1],\n",
    "        \"std_dev\": calculate_statistics(bmi)[2]\n",
    "    },\n",
    "    \"charges_statistics\": {\n",
    "        \"mean\": calculate_statistics(charges)[0],\n",
    "        \"median\": calculate_statistics(charges)[1],\n",
    "        \"std_dev\": calculate_statistics(charges)[2]\n",
    "    },\n",
    "    \"bmi_charges_correlation\": bmi_charges_correlation\n",
    "}\n",
    "\n",
    "import pprint\n",
    "pprint.pprint(analysis_results)\n",
    "pprint.pprint(correlations)\n",
    "\n",
    "print(\"Gender Distribution (%):\\n\", gender_counts)\n",
    "print(\"\\nSmoker Distribution (%):\\n\", smoker_counts)\n",
    "print(\"\\nRegional Distribution (%):\\n\", region_counts)\n",
    "print(bmi[:5])\n",
    "print(charges[:5])\n",
    "print(\"BMI Stats (Mean, Median, Std Dev):\", bmi_stats)\n",
    "print(\"Charges Stats (Mean, Median, Std Dev):\", charges_stats)\n",
    "print(\"Correlation between BMi and Charges:\", bmi_charges_correlation)"
   ]
  }
 ],
 "metadata": {
  "kernelspec": {
   "display_name": "Python 3 (ipykernel)",
   "language": "python",
   "name": "python3"
  },
  "language_info": {
   "codemirror_mode": {
    "name": "ipython",
    "version": 3
   },
   "file_extension": ".py",
   "mimetype": "text/x-python",
   "name": "python",
   "nbconvert_exporter": "python",
   "pygments_lexer": "ipython3",
   "version": "3.11.2"
  }
 },
 "nbformat": 4,
 "nbformat_minor": 4
}
